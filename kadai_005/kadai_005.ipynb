{
  "nbformat": 4,
  "nbformat_minor": 0,
  "metadata": {
    "colab": {
      "provenance": []
    },
    "kernelspec": {
      "name": "python3",
      "display_name": "Python 3"
    },
    "language_info": {
      "name": "python"
    }
  },
  "cells": [
    {
      "cell_type": "code",
      "execution_count": 2,
      "metadata": {
        "colab": {
          "base_uri": "https://localhost:8080/"
        },
        "id": "S4PNX-nvd0FU",
        "outputId": "56103b0c-bd3b-408e-8e7b-57971779ffdd"
      },
      "outputs": [
        {
          "output_type": "stream",
          "name": "stdout",
          "text": [
            "台形の面積＝75.0cm²\n"
          ]
        }
      ],
      "source": [
        "upper_length = 10\n",
        "lower_length = 20\n",
        "height_length = 5\n",
        "S = (upper_length + lower_length) * height_length / 2\n",
        "print(f\"台形の面積＝{S}cm\\u00B2\")"
      ]
    }
  ]
}