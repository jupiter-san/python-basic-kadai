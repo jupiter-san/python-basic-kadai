{
  "nbformat": 4,
  "nbformat_minor": 0,
  "metadata": {
    "colab": {
      "provenance": []
    },
    "kernelspec": {
      "name": "python3",
      "display_name": "Python 3"
    },
    "language_info": {
      "name": "python"
    }
  },
  "cells": [
    {
      "cell_type": "code",
      "execution_count": 6,
      "metadata": {
        "colab": {
          "base_uri": "https://localhost:8080/"
        },
        "id": "djy25rqtpZMk",
        "outputId": "9d624575-8359-43ca-fc0a-3c23287db373"
      },
      "outputs": [
        {
          "output_type": "stream",
          "name": "stdout",
          "text": [
            "金曜日は曇りです\n",
            "金曜日は曇りですだ\n"
          ]
        }
      ],
      "source": [
        "array = [\"月曜日は晴れです\",\"火曜日は雨です\",\"水曜日は晴れです\",\"木曜日は晴れです\",\n",
        "         \"金曜日は曇りです\",\"土曜日は曇のち雨です\",\"日曜日は雷雨です\"]\n",
        "dictionary = {\"mon\":\"晴れ\",\"tue\":\"雨\",\"wed\":\"晴れ\",\"thu\":\"晴れ\",\"fri\":\"曇り\",\n",
        "              \"sat\":\"曇のち雨\",\"sun\":\"雷雨\"}\n",
        "\n",
        "print(array[4])\n",
        "wk1 = dictionary[\"fri\"]\n",
        "print(f\"金曜日は{wk1}ですだ\")"
      ]
    }
  ]
}