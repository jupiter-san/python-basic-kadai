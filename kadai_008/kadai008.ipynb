{
  "nbformat": 4,
  "nbformat_minor": 0,
  "metadata": {
    "colab": {
      "provenance": []
    },
    "kernelspec": {
      "name": "python3",
      "display_name": "Python 3"
    },
    "language_info": {
      "name": "python"
    }
  },
  "cells": [
    {
      "cell_type": "code",
      "source": [
        "var = 45\n",
        "\n",
        "hantei_3 = var % 3\n",
        "hantei_5 = var % 5\n",
        "\n",
        "if hantei_3 == 0 and hantei_5 == 0:\n",
        "    print(\"FizzBuzz\")\n",
        "elif hantei_3 == 0:\n",
        "    print(\"Fizz\")\n",
        "elif hantei_5 == 0:\n",
        "    print(\"Buzz\")\n",
        "else:\n",
        "    print(var)\n"
      ],
      "metadata": {
        "colab": {
          "base_uri": "https://localhost:8080/"
        },
        "id": "Kjq9Ae8hkHof",
        "outputId": "41e5e4b4-fcec-44ad-e348-f10f578aff48"
      },
      "execution_count": 32,
      "outputs": [
        {
          "output_type": "stream",
          "name": "stdout",
          "text": [
            "FizzBuzz\n"
          ]
        }
      ]
    },
    {
      "cell_type": "code",
      "source": [
        "var = 10\n",
        "\n",
        "hantei_3 = var % 3\n",
        "hantei_5 = var % 5\n",
        "\n",
        "if hantei_3 == 0 and hantei_5 == 0:\n",
        "    print(\"FizzBuzz\")\n",
        "elif hantei_3 == 0:\n",
        "    print(\"Fizz\")\n",
        "elif hantei_5 == 0:\n",
        "    print(\"Buzz\")\n",
        "else:\n",
        "    print(var)"
      ],
      "metadata": {
        "colab": {
          "base_uri": "https://localhost:8080/"
        },
        "id": "2JwUQhKSlq39",
        "outputId": "a3a7a068-d40e-446d-d934-1a9c7e20471a"
      },
      "execution_count": 33,
      "outputs": [
        {
          "output_type": "stream",
          "name": "stdout",
          "text": [
            "Buzz\n"
          ]
        }
      ]
    },
    {
      "cell_type": "code",
      "source": [
        "var = 99\n",
        "\n",
        "hantei_3 = var % 3\n",
        "hantei_5 = var % 5\n",
        "\n",
        "if hantei_3 == 0 and hantei_5 == 0:\n",
        "    print(\"FizzBuzz\")\n",
        "elif hantei_3 == 0:\n",
        "    print(\"Fizz\")\n",
        "elif hantei_5 == 0:\n",
        "    print(\"Buzz\")\n",
        "else:\n",
        "    print(var)"
      ],
      "metadata": {
        "colab": {
          "base_uri": "https://localhost:8080/"
        },
        "id": "ngGdx8hQltis",
        "outputId": "4d35998c-193a-42c9-8754-1a732e67221e"
      },
      "execution_count": 34,
      "outputs": [
        {
          "output_type": "stream",
          "name": "stdout",
          "text": [
            "Fizz\n"
          ]
        }
      ]
    },
    {
      "cell_type": "code",
      "source": [
        "var = 7\n",
        "\n",
        "hantei_3 = var % 3\n",
        "hantei_5 = var % 5\n",
        "\n",
        "if hantei_3 == 0 and hantei_5 == 0:\n",
        "    print(\"FizzBuzz\")\n",
        "elif hantei_3 == 0:\n",
        "    print(\"Fizz\")\n",
        "elif hantei_5 == 0:\n",
        "    print(\"Buzz\")\n",
        "else:\n",
        "    print(var)"
      ],
      "metadata": {
        "colab": {
          "base_uri": "https://localhost:8080/"
        },
        "id": "3a-wqxKyluT8",
        "outputId": "d4e2d1b9-e1be-4828-eab3-6438eab64ff7"
      },
      "execution_count": 35,
      "outputs": [
        {
          "output_type": "stream",
          "name": "stdout",
          "text": [
            "7\n"
          ]
        }
      ]
    }
  ]
}