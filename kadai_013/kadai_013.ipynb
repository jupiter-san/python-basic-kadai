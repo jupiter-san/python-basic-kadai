{
  "nbformat": 4,
  "nbformat_minor": 0,
  "metadata": {
    "colab": {
      "provenance": []
    },
    "kernelspec": {
      "name": "python3",
      "display_name": "Python 3"
    },
    "language_info": {
      "name": "python"
    }
  },
  "cells": [
    {
      "cell_type": "code",
      "execution_count": 4,
      "metadata": {
        "colab": {
          "base_uri": "https://localhost:8080/"
        },
        "id": "Kt2URg4Vzc6a",
        "outputId": "4b19df2a-46b7-4d8d-ef87-7f1151ca79eb"
      },
      "outputs": [
        {
          "output_type": "execute_result",
          "data": {
            "text/plain": [
              "148.5"
            ]
          },
          "metadata": {},
          "execution_count": 4
        }
      ],
      "source": [
        "def calc_total_price(price :int,zei :float) -> float:\n",
        "    total_price = price * (1+zei)\n",
        "    return total_price\n",
        "\n",
        "calc_total_price(135,0.1)\n",
        ""
      ]
    }
  ]
}