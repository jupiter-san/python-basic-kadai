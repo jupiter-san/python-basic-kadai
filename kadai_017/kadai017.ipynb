{
  "nbformat": 4,
  "nbformat_minor": 0,
  "metadata": {
    "colab": {
      "provenance": []
    },
    "kernelspec": {
      "name": "python3",
      "display_name": "Python 3"
    },
    "language_info": {
      "name": "python"
    }
  },
  "cells": [
    {
      "cell_type": "code",
      "execution_count": 11,
      "metadata": {
        "colab": {
          "base_uri": "https://localhost:8080/"
        },
        "id": "HIR8DwisRueC",
        "outputId": "492c62d4-efd5-4299-d319-44d5ae472359"
      },
      "outputs": [
        {
          "output_type": "stream",
          "name": "stdout",
          "text": [
            "侍太郎は大人です。\n",
            "侍二郎は大人ではありません。\n",
            "侍三郎は大人です。\n"
          ]
        }
      ],
      "source": [
        "def  cfunc_adalt(age):\n",
        "  if age >= 20:\n",
        "    return True\n",
        "  else:\n",
        "    return False\n",
        "\n",
        "class Human:\n",
        "    def __init__(self, name,age):\n",
        "      self.name = name\n",
        "      self.age = age\n",
        "\n",
        "    def check_adalt(self,age):\n",
        "      if cfunc_adalt(age) == True:\n",
        "        print(f'{self.name}は大人です。')\n",
        "      else:\n",
        "        print(f'{self.name}は大人ではありません。')\n",
        "\n",
        "hito_list = [Human('侍太郎',22),Human('侍二郎',19),Human('侍三郎',25)]\n",
        "\n",
        "for hito in hito_list:\n",
        "  hito.check_adalt(hito.age)\n"
      ]
    }
  ]
}